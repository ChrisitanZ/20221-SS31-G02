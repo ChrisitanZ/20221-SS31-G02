{
  "nbformat": 4,
  "nbformat_minor": 0,
  "metadata": {
    "colab": {
      "name": "Tarea3.ipynb",
      "provenance": [],
      "authorship_tag": "ABX9TyPQND8n9VJBmWYmv8w4QS6t",
      "include_colab_link": true
    },
    "kernelspec": {
      "name": "python3",
      "display_name": "Python 3"
    },
    "language_info": {
      "name": "python"
    }
  },
  "cells": [
    {
      "cell_type": "markdown",
      "metadata": {
        "id": "view-in-github",
        "colab_type": "text"
      },
      "source": [
        "<a href=\"https://colab.research.google.com/github/ChrisitanZ/20221-SS31-G02/blob/main/Tarea3.ipynb\" target=\"_parent\"><img src=\"https://colab.research.google.com/assets/colab-badge.svg\" alt=\"Open In Colab\"/></a>"
      ]
    },
    {
      "cell_type": "markdown",
      "source": [
        "# **Ejercicio 3**"
      ],
      "metadata": {
        "id": "sjIpMxPX4_6O"
      }
    },
    {
      "cell_type": "code",
      "execution_count": 25,
      "metadata": {
        "colab": {
          "base_uri": "https://localhost:8080/"
        },
        "id": "RibMzcFS4_HX",
        "outputId": "f1e54ae5-383d-4524-a464-ae20ebfbad22"
      },
      "outputs": [
        {
          "output_type": "stream",
          "name": "stdout",
          "text": [
            "Overwriting biblioteca3.hpp\n"
          ]
        }
      ],
      "source": [
        "%%writefile biblioteca3.hpp\n",
        "#include <iostream>\n",
        "#include <cstdlib>// srand, rand\n",
        "#include <ctime>//time\n",
        "\n",
        "using std::cout;\n",
        "using std::cin;\n",
        "\n",
        "template <typename Generico>\n",
        "class Myarr\n",
        "{\n",
        "      Generico* a;\n",
        "      size_t n;\n",
        "      size_t id;\n",
        "      public:\n",
        "      Myarr()\n",
        "      {\n",
        "      a= new Generico[10];\n",
        "      n=0;\n",
        "      }\n",
        "      void listar()\n",
        "      {\n",
        "          for(size_t i=0;i<n;++i){\n",
        "      cout<<i<<\"-> \"<<a[i]<<\"\\n\";\n",
        "              }  \n",
        "      }\n",
        "      void Insertar(Generico obj)\n",
        "      {\n",
        "          if(n<10)\n",
        "          {\n",
        "              a[n]=obj;\n",
        "              n++;\n",
        "          }\n",
        "    \n",
        "      }\n",
        "      Generico mayor()\n",
        "      { \n",
        "         \n",
        "          Generico Mayor = a[0];\n",
        "          for(size_t i=1; i<n; ++i)\n",
        "          {\n",
        "               if(a[i]>Mayor)\n",
        "               {\n",
        "                  Mayor=a[i] ;\n",
        "               }\n",
        "          }\n",
        "\n",
        "          return Mayor;\n",
        "      }\n",
        "     void ordenar() \n",
        "    {\n",
        "        for (size_t i = 0; i < n-1; ++i)\n",
        "        {\n",
        "            for (size_t j = i + 1; j < n; ++j) \n",
        "            {\n",
        "                if (a[i] > a[j]) {\n",
        "                    Generico aux = a[i];\n",
        "                    a[i] = a[j];\n",
        "                    a[j] = aux;\n",
        "                }\n",
        "            }\n",
        "        }\n",
        "    }\n",
        "      float Promedio() \n",
        "    {\n",
        "        float prom = 0;\n",
        "        for (size_t i = 0; i < n; i++)\n",
        "        {\n",
        "            prom += a[i];\n",
        "        }\n",
        "        prom= prom/n;\n",
        "        return prom;\n",
        "    } \n",
        "};"
      ]
    },
    {
      "cell_type": "code",
      "source": [
        "%%writefile Ejemplo3.cpp\n",
        "#include \"biblioteca3.hpp\"\n",
        "int main()\n",
        "{\n",
        "      Myarr<short>* arr1 = new Myarr<short>;\n",
        "      Myarr<float>* arr2= new Myarr<float>;\n",
        "      Myarr<long> * arr3 = new Myarr<long>;\n",
        " \n",
        "      for(size_t i=10; i>0;--i)\n",
        "      {\n",
        "           arr1->Insertar(i);\n",
        "           arr2->Insertar(i*1.654);\n",
        "           arr3->Insertar(i*1000000);\n",
        "      }\n",
        " \n",
        "    cout << \"Int: \\n\";\n",
        "    arr1->listar();\n",
        "    cout << \"\\n\";\n",
        "    cout << \"Float: \\n\";\n",
        "    arr2->listar();\n",
        "    cout << \"\\n\";\n",
        "    cout << \"Long: \\n\";\n",
        "    arr3->listar();\n",
        "    cout << \"\\n\";\n",
        "    cout << \"El mayor numero  de int es: \"<< arr1->mayor();\n",
        "    cout << \"\\n\";\n",
        "    cout << \"El mayor numero  de float es: \"<< arr2->mayor();\n",
        "    cout << \"-\\n\";\n",
        "    cout << \"El mayor numero  de long es: \"<< arr3->mayor();\n",
        "    cout << \"\\n\";\n",
        "    cout << \"Ordenado: \\n\";\n",
        "    cout << \"\\n\";\n",
        "    arr1->ordenar();\n",
        "    arr1->listar();\n",
        "    cout << \"\\n\";\n",
        "    arr2->ordenar();\n",
        "    arr2->listar();\n",
        "    cout << \"\\n\";\n",
        "    arr3->ordenar();\n",
        "    arr3->listar();\n",
        "    cout << \"\\n\";\n",
        "    cout << \"El promedio de los int es: \" << arr1->Promedio();\n",
        "    cout << \"\\n\";\n",
        "    cout << \"El promedio de los float es: \" << arr2->Promedio();\n",
        "    cout << \"-\\n\";\n",
        "    cout << \"El promedio de los long es: \" << arr3->Promedio();\n",
        "}"
      ],
      "metadata": {
        "colab": {
          "base_uri": "https://localhost:8080/"
        },
        "id": "Bg3EXJB35KOT",
        "outputId": "22fcf476-5a1c-4ec9-da0c-fc8f68c73110"
      },
      "execution_count": 24,
      "outputs": [
        {
          "output_type": "stream",
          "name": "stdout",
          "text": [
            "Overwriting Ejemplo3.cpp\n"
          ]
        }
      ]
    },
    {
      "cell_type": "code",
      "source": [
        "!g++ Ejemplo3.cpp && ./a.out"
      ],
      "metadata": {
        "colab": {
          "base_uri": "https://localhost:8080/"
        },
        "id": "IV1w_sRm5Zwk",
        "outputId": "451dd1c6-f9aa-4905-9df1-b7296f27f5b8"
      },
      "execution_count": 26,
      "outputs": [
        {
          "output_type": "stream",
          "name": "stdout",
          "text": [
            "Int: \n",
            "0-> 10\n",
            "1-> 9\n",
            "2-> 8\n",
            "3-> 7\n",
            "4-> 6\n",
            "5-> 5\n",
            "6-> 4\n",
            "7-> 3\n",
            "8-> 2\n",
            "9-> 1\n",
            "\n",
            "Float: \n",
            "0-> 16.54\n",
            "1-> 14.886\n",
            "2-> 13.232\n",
            "3-> 11.578\n",
            "4-> 9.924\n",
            "5-> 8.27\n",
            "6-> 6.616\n",
            "7-> 4.962\n",
            "8-> 3.308\n",
            "9-> 1.654\n",
            "\n",
            "Long: \n",
            "0-> 10000000\n",
            "1-> 9000000\n",
            "2-> 8000000\n",
            "3-> 7000000\n",
            "4-> 6000000\n",
            "5-> 5000000\n",
            "6-> 4000000\n",
            "7-> 3000000\n",
            "8-> 2000000\n",
            "9-> 1000000\n",
            "\n",
            "El mayor numero  de int es: 10\n",
            "El mayor numero  de float es: 16.54-\n",
            "El mayor numero  de long es: 10000000\n",
            "Ordenado: \n",
            "\n",
            "0-> 1\n",
            "1-> 2\n",
            "2-> 3\n",
            "3-> 4\n",
            "4-> 5\n",
            "5-> 6\n",
            "6-> 7\n",
            "7-> 8\n",
            "8-> 9\n",
            "9-> 10\n",
            "\n",
            "0-> 1.654\n",
            "1-> 3.308\n",
            "2-> 4.962\n",
            "3-> 6.616\n",
            "4-> 8.27\n",
            "5-> 9.924\n",
            "6-> 11.578\n",
            "7-> 13.232\n",
            "8-> 14.886\n",
            "9-> 16.54\n",
            "\n",
            "0-> 1000000\n",
            "1-> 2000000\n",
            "2-> 3000000\n",
            "3-> 4000000\n",
            "4-> 5000000\n",
            "5-> 6000000\n",
            "6-> 7000000\n",
            "7-> 8000000\n",
            "8-> 9000000\n",
            "9-> 10000000\n",
            "\n",
            "El promedio de los int es: 5.5\n",
            "El promedio de los float es: 9.097-\n",
            "El promedio de los long es: 5.5e+06"
          ]
        }
      ]
    }
  ]
}