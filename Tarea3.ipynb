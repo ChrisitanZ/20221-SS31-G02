{
  "nbformat": 4,
  "nbformat_minor": 0,
  "metadata": {
    "colab": {
      "name": "Tarea3.ipynb",
      "provenance": [],
      "authorship_tag": "ABX9TyMqx+W7BXssxkmNB3u5XC69",
      "include_colab_link": true
    },
    "kernelspec": {
      "name": "python3",
      "display_name": "Python 3"
    },
    "language_info": {
      "name": "python"
    }
  },
  "cells": [
    {
      "cell_type": "markdown",
      "metadata": {
        "id": "view-in-github",
        "colab_type": "text"
      },
      "source": [
        "<a href=\"https://colab.research.google.com/github/ChrisitanZ/20221-SS31-G02/blob/main/Tarea3.ipynb\" target=\"_parent\"><img src=\"https://colab.research.google.com/assets/colab-badge.svg\" alt=\"Open In Colab\"/></a>"
      ]
    },
    {
      "cell_type": "markdown",
      "source": [
        "# **Ejercicio 3**"
      ],
      "metadata": {
        "id": "sjIpMxPX4_6O"
      }
    },
    {
      "cell_type": "code",
      "execution_count": 36,
      "metadata": {
        "colab": {
          "base_uri": "https://localhost:8080/"
        },
        "id": "RibMzcFS4_HX",
        "outputId": "1e28789c-d786-40b5-edcc-fabc7d540380"
      },
      "outputs": [
        {
          "output_type": "stream",
          "name": "stdout",
          "text": [
            "Overwriting biblioteca3.hpp\n"
          ]
        }
      ],
      "source": [
        "%%writefile biblioteca3.hpp\n",
        "#include <iostream>\n",
        "#include <cstdlib>// srand, rand\n",
        "#include <ctime>//time\n",
        "\n",
        "using std::cout;\n",
        "using std::cin;\n",
        "\n",
        "template <typename Generico>\n",
        "class Myarr\n",
        "{\n",
        "      Generico* a;\n",
        "      size_t n;\n",
        " \n",
        "      public:\n",
        "      Myarr()\n",
        "      {\n",
        "      a= new Generico[10];\n",
        "      n=0;\n",
        "      }\n",
        "      void listar()\n",
        "      {\n",
        "          for(size_t i=0;i<n;++i){\n",
        "      cout<<i<<\"-> \"<<a[i]<<\"\\n\";\n",
        "              }  \n",
        "      }\n",
        "      void Insertar(Generico obj)\n",
        "      {\n",
        "          if(n<10)\n",
        "          {\n",
        "              a[n]=obj;\n",
        "              n++;\n",
        "          }\n",
        "    \n",
        "      }\n",
        "      Generico mayor()\n",
        "      { \n",
        "         \n",
        "          Generico Mayor = a[0];\n",
        "          for(size_t i=1; i<n; ++i)\n",
        "          {\n",
        "               if(a[i]>Mayor)\n",
        "               {\n",
        "                  Mayor=a[i] ;\n",
        "               }\n",
        "          }\n",
        "\n",
        "          return Mayor;\n",
        "      }\n",
        "     void ordenar() \n",
        "    {\n",
        "        for (size_t i = 0; i < n-1; ++i)\n",
        "        {\n",
        "            for (size_t j = i + 1; j < n; ++j) \n",
        "            {\n",
        "                if (a[i] > a[j]) {\n",
        "                    Generico aux = a[i];\n",
        "                    a[i] = a[j];\n",
        "                    a[j] = aux;\n",
        "                }\n",
        "            }\n",
        "        }\n",
        "    }\n",
        "      float Promedio() \n",
        "    {\n",
        "        float prom = 0;\n",
        "        for (size_t i = 0; i < n; i++)\n",
        "        {\n",
        "            prom += a[i];\n",
        "        }\n",
        "        prom= prom/n;\n",
        "        return prom;\n",
        "    } \n",
        "};"
      ]
    },
    {
      "cell_type": "code",
      "source": [
        "%%writefile Ejemplo3.cpp\n",
        "#include \"biblioteca3.hpp\"\n",
        "int main()\n",
        "{\n",
        "      Myarr<short>* arr1 = new Myarr<short>;\n",
        "      Myarr<float>* arr2= new Myarr<float>;\n",
        "      Myarr<long> * arr3 = new Myarr<long>;\n",
        " \n",
        "      for(size_t i=10; i>0; --i)\n",
        "      {\n",
        "           arr1->Insertar(i);\n",
        "           arr2->Insertar(i*1.789);\n",
        "           arr3->Insertar(i*10000);\n",
        "      }\n",
        " \n",
        "    cout << \"Arreglo de Int: \\n\";\n",
        "    arr1->listar();\n",
        "    cout << \"--------------------------\\n\";\n",
        "    cout << \"Arreglo de Float: \\n\";\n",
        "    arr2->listar();\n",
        "    cout << \"--------------------------\\n\";\n",
        "    cout << \"Arreglo de Long: \\n\";\n",
        "    arr3->listar();\n",
        "    cout << \"--------------------------\\n\";\n",
        "    cout << \"El mayor numero del arreglo de int es: \"<< arr1->mayor()<<\"\\n\";\n",
        "    cout << \"--------------------------\\n\";\n",
        "    cout << \"El mayor numero del arreglo de float es: \" << arr2->mayor()<<\"\\n\";\n",
        "    cout << \"--------------------------\\n\";\n",
        "    cout << \"El mayor numero del arreglo de long es: \" << arr3->mayor()<<\"\\n\";\n",
        "    cout << \"--------------------------\\n\";\n",
        "    cout << \"Los Arreglos ordenados son: \\n\";\n",
        "    cout << \"--------------------------\\n\";\n",
        "    arr1->ordenar();\n",
        "    arr1->listar();\n",
        "    cout << \"--------------------------\\n\";\n",
        "    arr2->ordenar();\n",
        "    arr2->listar();\n",
        "    cout << \"--------------------------\\n\";\n",
        "    arr3->ordenar();\n",
        "    arr3->listar();\n",
        "    cout << \"--------------------------\\n\";\n",
        "    cout << \"El promedio de los int es: \" << arr1->Promedio() << \"\\n\";\n",
        "    cout << \"--------------------------\\n\";\n",
        "    cout << \"El promedio de los float es: \" << arr2->Promedio() << \"\\n\";\n",
        "    cout << \"--------------------------\\n\";\n",
        "    cout << \"El promedio de los long es: \" << arr3->Promedio() << \"\\n\";\n",
        "}"
      ],
      "metadata": {
        "colab": {
          "base_uri": "https://localhost:8080/"
        },
        "id": "Bg3EXJB35KOT",
        "outputId": "9fd3936b-a4ee-4e5c-b352-fcbb1b984720"
      },
      "execution_count": 37,
      "outputs": [
        {
          "output_type": "stream",
          "name": "stdout",
          "text": [
            "Overwriting Ejemplo3.cpp\n"
          ]
        }
      ]
    },
    {
      "cell_type": "code",
      "source": [
        "!g++ Ejemplo3.cpp && ./a.out"
      ],
      "metadata": {
        "colab": {
          "base_uri": "https://localhost:8080/"
        },
        "id": "IV1w_sRm5Zwk",
        "outputId": "4a3bc7a0-885e-4cd6-819c-1a5a24fbc126"
      },
      "execution_count": 38,
      "outputs": [
        {
          "output_type": "stream",
          "name": "stdout",
          "text": [
            "Arreglo de Int: \n",
            "0-> 10\n",
            "1-> 9\n",
            "2-> 8\n",
            "3-> 7\n",
            "4-> 6\n",
            "5-> 5\n",
            "6-> 4\n",
            "7-> 3\n",
            "8-> 2\n",
            "9-> 1\n",
            "--------------------------\n",
            "Arreglo de Float: \n",
            "0-> 17.89\n",
            "1-> 16.101\n",
            "2-> 14.312\n",
            "3-> 12.523\n",
            "4-> 10.734\n",
            "5-> 8.945\n",
            "6-> 7.156\n",
            "7-> 5.367\n",
            "8-> 3.578\n",
            "9-> 1.789\n",
            "--------------------------\n",
            "Arreglo de Long: \n",
            "0-> 100000\n",
            "1-> 90000\n",
            "2-> 80000\n",
            "3-> 70000\n",
            "4-> 60000\n",
            "5-> 50000\n",
            "6-> 40000\n",
            "7-> 30000\n",
            "8-> 20000\n",
            "9-> 10000\n",
            "--------------------------\n",
            "El mayor numero del arreglo de int es: 10\n",
            "--------------------------\n",
            "El mayor numero del arreglo de float es: 17.89\n",
            "--------------------------\n",
            "El mayor numero del arreglo de long es: 100000\n",
            "--------------------------\n",
            "Los Arreglos ordenados son: \n",
            "--------------------------\n",
            "0-> 1\n",
            "1-> 2\n",
            "2-> 3\n",
            "3-> 4\n",
            "4-> 5\n",
            "5-> 6\n",
            "6-> 7\n",
            "7-> 8\n",
            "8-> 9\n",
            "9-> 10\n",
            "--------------------------\n",
            "0-> 1.789\n",
            "1-> 3.578\n",
            "2-> 5.367\n",
            "3-> 7.156\n",
            "4-> 8.945\n",
            "5-> 10.734\n",
            "6-> 12.523\n",
            "7-> 14.312\n",
            "8-> 16.101\n",
            "9-> 17.89\n",
            "--------------------------\n",
            "0-> 10000\n",
            "1-> 20000\n",
            "2-> 30000\n",
            "3-> 40000\n",
            "4-> 50000\n",
            "5-> 60000\n",
            "6-> 70000\n",
            "7-> 80000\n",
            "8-> 90000\n",
            "9-> 100000\n",
            "--------------------------\n",
            "El promedio de los int es: 5.5\n",
            "--------------------------\n",
            "El promedio de los float es: 9.8395\n",
            "--------------------------\n",
            "El promedio de los long es: 55000\n"
          ]
        }
      ]
    }
  ]
}