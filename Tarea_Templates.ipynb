{
  "nbformat": 4,
  "nbformat_minor": 0,
  "metadata": {
    "colab": {
      "name": "Tarea Templates.ipynb",
      "provenance": [],
      "collapsed_sections": [],
      "authorship_tag": "ABX9TyPf2iJd+9UybGTFZMIM5ph2",
      "include_colab_link": true
    },
    "kernelspec": {
      "name": "python3",
      "display_name": "Python 3"
    },
    "language_info": {
      "name": "python"
    }
  },
  "cells": [
    {
      "cell_type": "markdown",
      "metadata": {
        "id": "view-in-github",
        "colab_type": "text"
      },
      "source": [
        "<a href=\"https://colab.research.google.com/github/waltercueva/20221-SS31-G02/blob/main/Tarea_Templates.ipynb\" target=\"_parent\"><img src=\"https://colab.research.google.com/assets/colab-badge.svg\" alt=\"Open In Colab\"/></a>"
      ]
    },
    {
      "cell_type": "code",
      "execution_count": 1,
      "metadata": {
        "colab": {
          "base_uri": "https://localhost:8080/"
        },
        "id": "WdtS3h6Aapui",
        "outputId": "2d781711-e956-474b-8e95-d00221c2fcc5"
      },
      "outputs": [
        {
          "output_type": "stream",
          "name": "stdout",
          "text": [
            "Writing bibliotecaxd.hpp\n"
          ]
        }
      ],
      "source": [
        "%%writefile bibliotecaxd.hpp\n",
        "//Definicion de bibliotecas, clases y funciones\n",
        "#include <iostream>\n",
        "#include <cstdlib>// srand, rand\n",
        "#include <ctime>//time\n",
        "\n",
        "using std::cout;\n",
        "using std::cin;\n",
        "template <typename Generico>\n",
        "class MyVector\n",
        "{\n",
        "      Generico* a;\n",
        "      size_t n;\n",
        "      public:\n",
        "      MyVector(){a= new Generico[10];n=0;}\n",
        "      void listar()\n",
        "      {\n",
        "          for(size_t i=0;i<n;++i){\n",
        "      cout<<i<<\"-> \"<<a[i]<<\"\\n\";\n",
        "              }  \n",
        "      }\n",
        "      void Insertar(Generico obj)\n",
        "      {\n",
        "          if(n<10)\n",
        "          {\n",
        "              a[n]=obj;\n",
        "              n++;\n",
        "          }\n",
        "    \n",
        "      }\n",
        "      Generico mayor()\n",
        "      { \n",
        "         \n",
        "          Generico Mayor = a[0];\n",
        "          for(size_t i=1; i<n; ++i)\n",
        "          {\n",
        "               if(a[i]>Mayor)\n",
        "               {\n",
        "                  Mayor=a[i] ;\n",
        "               }\n",
        "          }\n",
        "\n",
        "          return Mayor;\n",
        "      }\n",
        "     void ordenar() \n",
        "    {\n",
        "        for (size_t i = 0; i < n-1; ++i)\n",
        "        {\n",
        "            for (size_t j = i + 1; j < n; ++j) \n",
        "            {\n",
        "                if (a[i] > a[j]) {\n",
        "                    Generico aux = a[i];\n",
        "                    a[i] = a[j];\n",
        "                    a[j] = aux;\n",
        "                }\n",
        "            }\n",
        "        }\n",
        "    }\n",
        "      float Promedio() \n",
        "    {\n",
        "        float prom = 0;\n",
        "        for (size_t i = 0; i < n; i++)\n",
        "        {\n",
        "            prom += a[i];\n",
        "        }\n",
        "        prom= prom/n;\n",
        "        return prom;\n",
        "    } \n",
        "};"
      ]
    },
    {
      "cell_type": "code",
      "source": [
        "%%writefile Ejemplo3.cpp\n",
        "#include \"bibliotecaxd.hpp\"\n",
        "int main()\n",
        "{\n",
        "      MyVector<int>* oInt = new MyVector<int>;\n",
        "      MyVector<float>* oFloat= new MyVector<float>;\n",
        "      MyVector<long> * oLong = new MyVector<long>;\n",
        " \n",
        "      for(size_t i=10; i>0; --i)\n",
        "      {\n",
        "           oInt->Insertar(i);\n",
        "           oFloat->Insertar(i*1.789);\n",
        "           oLong->Insertar(i*10000);\n",
        "      }\n",
        "      cout << \"Arreglo de Int: \\n\";\n",
        "    oInt->listar();\n",
        "    cout << \"--------------------------\\n\";\n",
        "    cout << \"Arreglo de Float: \\n\";\n",
        "    oFloat->listar();\n",
        "    cout << \"--------------------------\\n\";\n",
        "    cout << \"Arreglo de Long: \\n\";\n",
        "    oLong->listar();\n",
        "    cout << \"--------------------------\\n\";\n",
        "    cout << \"El mayor numero del arreglo de int es: \"<< oInt->mayor()<<\"\\n\";\n",
        "    cout << \"--------------------------\\n\";\n",
        "    cout << \"El mayor numero del arreglo de float es: \" << oFloat->mayor()<<\"\\n\";\n",
        "    cout << \"--------------------------\\n\";\n",
        "    cout << \"El mayor numero del arreglo de long es: \" << oLong->mayor()<<\"\\n\";\n",
        "    cout << \"--------------------------\\n\";\n",
        "    cout << \"Los Arreglos ordenados son: \\n\";\n",
        "    cout << \"--------------------------\\n\";\n",
        "    oInt->ordenar();\n",
        "    oInt->listar();\n",
        "    cout << \"--------------------------\\n\";\n",
        "    oFloat->ordenar();\n",
        "    oFloat->listar();\n",
        "    cout << \"--------------------------\\n\";\n",
        "    oLong->ordenar();\n",
        "    oLong->listar();\n",
        "    cout << \"--------------------------\\n\";\n",
        "    cout << \"El promedio de los int es: \" << oInt->Promedio() << \"\\n\";\n",
        "    cout << \"--------------------------\\n\";\n",
        "    cout << \"El promedio de los float es: \" << oFloat->Promedio() << \"\\n\";\n",
        "    cout << \"--------------------------\\n\";\n",
        "    cout << \"El promedio de los long es: \" << oLong->Promedio() << \"\\n\";\n",
        "}"
      ],
      "metadata": {
        "colab": {
          "base_uri": "https://localhost:8080/"
        },
        "id": "-vqLmSejay5u",
        "outputId": "1d726d3c-acf9-4dc4-cc1e-8f9fc45e5be1"
      },
      "execution_count": 2,
      "outputs": [
        {
          "output_type": "stream",
          "name": "stdout",
          "text": [
            "Writing Ejemplo3.cpp\n"
          ]
        }
      ]
    },
    {
      "cell_type": "code",
      "source": [
        "!g++ -std=c++11  Ejemplo3.cpp && ./a.out"
      ],
      "metadata": {
        "colab": {
          "base_uri": "https://localhost:8080/"
        },
        "id": "0wgPs_M1a3R9",
        "outputId": "45946d2e-e7e3-43b8-f037-d00be5230d1e"
      },
      "execution_count": 3,
      "outputs": [
        {
          "output_type": "stream",
          "name": "stdout",
          "text": [
            "Arreglo de Int: \n",
            "0-> 10\n",
            "1-> 9\n",
            "2-> 8\n",
            "3-> 7\n",
            "4-> 6\n",
            "5-> 5\n",
            "6-> 4\n",
            "7-> 3\n",
            "8-> 2\n",
            "9-> 1\n",
            "--------------------------\n",
            "Arreglo de Float: \n",
            "0-> 17.89\n",
            "1-> 16.101\n",
            "2-> 14.312\n",
            "3-> 12.523\n",
            "4-> 10.734\n",
            "5-> 8.945\n",
            "6-> 7.156\n",
            "7-> 5.367\n",
            "8-> 3.578\n",
            "9-> 1.789\n",
            "--------------------------\n",
            "Arreglo de Long: \n",
            "0-> 100000\n",
            "1-> 90000\n",
            "2-> 80000\n",
            "3-> 70000\n",
            "4-> 60000\n",
            "5-> 50000\n",
            "6-> 40000\n",
            "7-> 30000\n",
            "8-> 20000\n",
            "9-> 10000\n",
            "--------------------------\n",
            "El mayor numero del arreglo de int es: 10\n",
            "--------------------------\n",
            "El mayor numero del arreglo de float es: 17.89\n",
            "--------------------------\n",
            "El mayor numero del arreglo de long es: 100000\n",
            "--------------------------\n",
            "Los Arreglos ordenados son: \n",
            "--------------------------\n",
            "0-> 1\n",
            "1-> 2\n",
            "2-> 3\n",
            "3-> 4\n",
            "4-> 5\n",
            "5-> 6\n",
            "6-> 7\n",
            "7-> 8\n",
            "8-> 9\n",
            "9-> 10\n",
            "--------------------------\n",
            "0-> 1.789\n",
            "1-> 3.578\n",
            "2-> 5.367\n",
            "3-> 7.156\n",
            "4-> 8.945\n",
            "5-> 10.734\n",
            "6-> 12.523\n",
            "7-> 14.312\n",
            "8-> 16.101\n",
            "9-> 17.89\n",
            "--------------------------\n",
            "0-> 10000\n",
            "1-> 20000\n",
            "2-> 30000\n",
            "3-> 40000\n",
            "4-> 50000\n",
            "5-> 60000\n",
            "6-> 70000\n",
            "7-> 80000\n",
            "8-> 90000\n",
            "9-> 100000\n",
            "--------------------------\n",
            "El promedio de los int es: 5.5\n",
            "--------------------------\n",
            "El promedio de los float es: 9.8395\n",
            "--------------------------\n",
            "El promedio de los long es: 55000\n"
          ]
        }
      ]
    },
    {
      "cell_type": "code",
      "source": [
        ""
      ],
      "metadata": {
        "id": "dtynfRNXa43f"
      },
      "execution_count": null,
      "outputs": []
    }
  ]
}